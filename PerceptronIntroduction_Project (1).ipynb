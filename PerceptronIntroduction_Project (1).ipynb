{
  "nbformat": 4,
  "nbformat_minor": 0,
  "metadata": {
    "colab": {
      "provenance": []
    },
    "kernelspec": {
      "name": "python3",
      "display_name": "Python 3"
    }
  },
  "cells": [
    {
      "cell_type": "markdown",
      "source": [
        "**Copyright: © NexStream Technical Education, LLC**.\n",
        "All rights reserved"
      ],
      "metadata": {
        "id": "_hoVeG4eB3s-"
      }
    },
    {
      "cell_type": "markdown",
      "source": [
        "# Building a Simple Perceptron model from scratch\n",
        "In this project, you will implement a simple Perceptron model class using standard Python and Numpy libraries.\n",
        "\n",
        "Please complete the following steps in your Colab Script. The reference script below provides template code and hints to help with each step. You will be turning in code and screenshots of your console output in an accompanying assignment.\n",
        "\n",
        "The following instructions are identified as Steps in the text cells preceding their corresponding code cell. Read through the instructions and write/fill-in the appropriate code in the cells.\n",
        "\n",
        "### Perceptron Class\n",
        "In this section you will create a Perceptron class.  Complete the following steps and refer to the previous lecture units for guidance.\n",
        "- Step a:  Create the Perceptron class.\n",
        "- Step b:  Write the class constructor.\n",
        "  - Input the number of input units (input nodes), the number of iterations (epochs), and the learning rate.\n",
        "  - Initialize instance variables: number of epochs, learning rate, weights (0 == vector of number of input nodes), bias (0), activations (empty list)\n",
        "- Step c:  Write the predict() method to implement forward propagation.\n",
        "  - Input the training data (X).\n",
        "  - Calculate output:  $\\hspace{5mm} Z=X\\cdot W + B$\n",
        "  - Apply and return the activation, where the activation is the heaviside step function.\n",
        "- Step d:  Write the train() method to fit the model.\n",
        "  - Loop over the number of epochs\n",
        "    - Loop over the inputs and labels\n",
        "      - Call the predict function and append the returned activation (y_hat) the activation instance variable\n",
        "      - Calculate the error:  $\\hspace{5mm} \\text{err = y - y_hat}$\n",
        "      - Update the weights and biases\n",
        "      $\\hspace{5mm}W = W + lr * err * X$\n",
        "      $\\hspace{5mm}B = B + lr * err$"
      ],
      "metadata": {
        "id": "GvfjapdYCF0f"
      }
    },
    {
      "cell_type": "code",
      "metadata": {
        "id": "x65GvbzTYFwm"
      },
      "source": [
        "import numpy as np\n",
        "\n",
        "class Perceptron:\n",
        "\n",
        "  #Constructor parameter order: input_units, epochs, learning rate\n",
        "  #   Init instance vars epochs, learning_rate, weights=0, bias=0, activations\n",
        "    def __init__(self, input_units, epochs, learning_rate):\n",
        "        self.epochs = epochs\n",
        "        self.learning_rate = learning_rate\n",
        "        self.weights = np.zeros(input_units)\n",
        "        self.bias = 0\n",
        "        self.activations = []\n",
        "\n",
        "    def predict(self, inputs):\n",
        "        #Compute Z\n",
        "        z = np.dot(inputs, self.weights) + self.bias\n",
        "\n",
        "        #Compute the activation based on heaviside step function\n",
        "        a = int(np.heaviside(z,0))\n",
        "        return a\n",
        "\n",
        "    def train(self, training_inputs, labels):\n",
        "\n",
        "        #Loop over the number of training iterations\n",
        "        for _ in range(self.epochs):\n",
        "          for inputs, label in zip(training_inputs, labels):\n",
        "            #Loop over the input data and output labels\n",
        "                #Call the prediction (forward step)\n",
        "                #  and append the returned estimate to the activations list\n",
        "                yhat = self.predict(inputs)\n",
        "                self.activations.append(yhat)\n",
        "\n",
        "                #Compute the error\n",
        "                error = label - yhat\n",
        "\n",
        "                #Update the weights and biases\n",
        "                self.weights += self.learning_rate * error * inputs\n",
        "                self.bias += self.learning_rate * error\n",
        "\n",
        "\n"
      ],
      "execution_count": 10,
      "outputs": []
    },
    {
      "cell_type": "markdown",
      "source": [
        "## Test the lecture example\n"
      ],
      "metadata": {
        "id": "gPGFKjwwuOgq"
      }
    },
    {
      "cell_type": "code",
      "source": [
        "#Test the Perceptron model\n",
        "\n",
        "#Test X and y\n",
        "X = np.array([[1, 1], [2, 0.4], [0, 1]])      #input combinations\n",
        "y = np.array([1, 0, 1])                       #output\n",
        "\n",
        "\n",
        "\n",
        "#Construct Perceptron object\n",
        "#   num of inputs = number of indep variables (input nodes)\n",
        "#   epochs = 5\n",
        "#   learning rate = 1\n",
        "perceptron = Perceptron(input_units=2, epochs=5, learning_rate=1)\n",
        "\n",
        "#Train the network\n",
        "perceptron.train(X, y)\n",
        "\n",
        "\n",
        "\n",
        "import doctest\n",
        "\n",
        "\"\"\"\n",
        "  >>> print(perceptron.activations)\n",
        "  [0, 1, 1, 0, 1, 1, 0, 0, 1, 1, 0, 1, 1, 0, 1]\n",
        "  >>> print(perceptron.predict(np.array([1, 1])))\n",
        "  1\n",
        "  >>> print(perceptron.predict(np.array([2, 0.4])))\n",
        "  0\n",
        "  >>> print(perceptron.predict(np.array([0, 1])))\n",
        "  1\n",
        "\"\"\"\n",
        "\n",
        "doctest.testmod()"
      ],
      "metadata": {
        "id": "zlvjchEmuS2L",
        "colab": {
          "base_uri": "https://localhost:8080/"
        },
        "outputId": "735e8ecb-e5a6-4c79-d46b-93ba75718141"
      },
      "execution_count": 11,
      "outputs": [
        {
          "output_type": "execute_result",
          "data": {
            "text/plain": [
              "TestResults(failed=0, attempted=4)"
            ]
          },
          "metadata": {},
          "execution_count": 11
        }
      ]
    },
    {
      "cell_type": "markdown",
      "source": [
        "## Test AND function"
      ],
      "metadata": {
        "id": "z0LyxOmZjGNl"
      }
    },
    {
      "cell_type": "code",
      "source": [
        "#Test the Perceptron model\n",
        "\n",
        "#Test X and y\n",
        "X = np.array([[1, 1], [1, 0], [0, 1], [0, 0]])      #input combinations\n",
        "y = np.array([1, 0, 0, 0])                          #output\n",
        "\n",
        "\n",
        "\n",
        "\n",
        "#Construct Perceptron object\n",
        "#   num of inputs = number of indep variables (input nodes)\n",
        "#   epochs = 5\n",
        "#   learning rate = 1\n",
        "perceptron = Perceptron(input_units=2, epochs=5, learning_rate=1)\n",
        "\n",
        "#Train the network\n",
        "perceptron.train(X, y)\n",
        "\n",
        "import doctest\n",
        "\n",
        "\"\"\"\n",
        "  >>> print(perceptron.activations)\n",
        "  [0, 1, 1, 0, 0, 1, 0, 0, 0, 1, 1, 0, 0, 0, 1, 0, 0, 1, 0, 0]\n",
        "  >>> print(perceptron.predict(np.array([0, 0])))\n",
        "  0\n",
        "  >>> print(perceptron.predict(np.array([0, 1])))\n",
        "  0\n",
        "  >>> print(perceptron.predict(np.array([1, 0])))\n",
        "  0\n",
        "  >>> print(perceptron.predict(np.array([1, 1])))\n",
        "  1\n",
        "\"\"\"\n",
        "\n",
        "doctest.testmod()"
      ],
      "metadata": {
        "id": "TWNiwqaYiPHK",
        "colab": {
          "base_uri": "https://localhost:8080/"
        },
        "outputId": "0d0193d9-a4e0-4c69-e817-cfa85dcdfd29"
      },
      "execution_count": 12,
      "outputs": [
        {
          "output_type": "execute_result",
          "data": {
            "text/plain": [
              "TestResults(failed=0, attempted=5)"
            ]
          },
          "metadata": {},
          "execution_count": 12
        }
      ]
    },
    {
      "cell_type": "markdown",
      "source": [
        "## Test OR function"
      ],
      "metadata": {
        "id": "n0ndd3v2jOPy"
      }
    },
    {
      "cell_type": "code",
      "source": [
        "#Test the Perceptron model\n",
        "\n",
        "#Test X and y\n",
        "X = np.array([[1, 1], [1, 0], [0, 1], [0, 0]])      #input combinations\n",
        "y = np.array([1, 1, 1, 0])                          #output\n",
        "\n",
        "\n",
        "\n",
        "#Construct Perceptron object\n",
        "#   num of inputs = number of indep variables (input nodes)\n",
        "#   epochs = 5\n",
        "#   learning rate = 1\n",
        "perceptron = Perceptron(input_units=2, epochs=5, learning_rate=1)\n",
        "\n",
        "#Train the network\n",
        "perceptron.train(X, y)\n",
        "\n",
        "\n",
        "import doctest\n",
        "\n",
        "\"\"\"\n",
        "  >>> print(perceptron.activations)\n",
        "  [0, 1, 1, 1, 1, 1, 1, 0, 1, 1, 1, 0, 1, 1, 1, 0, 1, 1, 1, 0]\n",
        "  >>> print(perceptron.predict(np.array([0, 0])))\n",
        "  0\n",
        "  >>> print(perceptron.predict(np.array([0, 1])))\n",
        "  1\n",
        "  >>> print(perceptron.predict(np.array([1, 0])))\n",
        "  1\n",
        "  >>> print(perceptron.predict(np.array([1, 1])))\n",
        "  1\n",
        "\"\"\"\n",
        "\n",
        "doctest.testmod()"
      ],
      "metadata": {
        "id": "OLiLZXTFjQ70",
        "colab": {
          "base_uri": "https://localhost:8080/"
        },
        "outputId": "2f79ef6c-f6d8-444d-a79d-66adee660032"
      },
      "execution_count": 13,
      "outputs": [
        {
          "output_type": "execute_result",
          "data": {
            "text/plain": [
              "TestResults(failed=0, attempted=5)"
            ]
          },
          "metadata": {},
          "execution_count": 13
        }
      ]
    },
    {
      "cell_type": "markdown",
      "source": [
        "## Test NAND function"
      ],
      "metadata": {
        "id": "Z81tVjXmjZad"
      }
    },
    {
      "cell_type": "code",
      "source": [
        "#Test the Perceptron model\n",
        "\n",
        "#Test X and y\n",
        "X = np.array([[1, 1], [1, 0], [0, 1], [0, 0]])      #input combinations\n",
        "y = np.array([0, 1, 1, 1])                          #output\n",
        "\n",
        "\n",
        "\n",
        "\n",
        "#Construct Perceptron object\n",
        "#   num of inputs = number of indep variables (input nodes)\n",
        "#   epochs = 10\n",
        "#   learning rate = 1\n",
        "perceptron = Perceptron(input_units=2, epochs=10, learning_rate=1)\n",
        "\n",
        "#Train the network\n",
        "perceptron.train(X, y)\n",
        "\n",
        "\n",
        "\n",
        "import doctest\n",
        "\n",
        "\"\"\"\n",
        "  >>> print(perceptron.activations)\n",
        "  [0, 0, 1, 1, 1, 0, 0, 1, 1, 1, 0, 1, 1, 0, 1, 1, 1, 0, 0, 1, 1, 1, 0, 1, 1, 0, 1, 1, 0, 1, 1, 1, 0, 1, 1, 1, 0, 1, 1, 1]\n",
        "  >>> print(perceptron.predict(np.array([0, 0])))\n",
        "  1\n",
        "  >>> print(perceptron.predict(np.array([0, 1])))\n",
        "  1\n",
        "  >>> print(perceptron.predict(np.array([1, 0])))\n",
        "  1\n",
        "  >>> print(perceptron.predict(np.array([1, 1])))\n",
        "  0\n",
        "\"\"\"\n",
        "\n",
        "doctest.testmod()"
      ],
      "metadata": {
        "id": "Ld1Yg7x4jcGY",
        "colab": {
          "base_uri": "https://localhost:8080/"
        },
        "outputId": "ab882acb-73dd-4c5c-dec6-ef1cc9b2fd5a"
      },
      "execution_count": 14,
      "outputs": [
        {
          "output_type": "execute_result",
          "data": {
            "text/plain": [
              "TestResults(failed=0, attempted=5)"
            ]
          },
          "metadata": {},
          "execution_count": 14
        }
      ]
    },
    {
      "cell_type": "markdown",
      "source": [
        "## Test XOR function"
      ],
      "metadata": {
        "id": "1kh0GfhKjn6H"
      }
    },
    {
      "cell_type": "code",
      "source": [
        "#Test the Perceptron model\n",
        "\n",
        "#Test X and y\n",
        "X = np.array([[1, 1], [1, 0], [0, 1], [0, 0]])      #input combinations\n",
        "y = np.array([0, 1, 1, 0])                          #output\n",
        "\n",
        "\n",
        "\n",
        "\n",
        "#Construct Perceptron object\n",
        "#   num of inputs = number of indep variables (input nodes)\n",
        "#   epochs = 50\n",
        "#   learning rate = 1\n",
        "perceptron = Perceptron(input_units=2, epochs=50, learning_rate=1)\n",
        "\n",
        "#Train the network\n",
        "perceptron.train(X, y)\n",
        "\n",
        "print(\"\"\"\n",
        "The incorrect prediction is because the XOR model cannot be separated linearly (through a straight line),while the single-layer Perceptron can only do binary classification with a linear boundary.\n",
        "There isn't a way for the single-layer Perceptron to separate the 1s from the 0s here.\"\"\")\n",
        "\n",
        "\n",
        "\n",
        "import doctest\n",
        "\n",
        "\"\"\"\n",
        "  >>> print(perceptron.predict(np.array([0, 0])))\n",
        "  0\n",
        "  >>> print(perceptron.predict(np.array([0, 1])))\n",
        "  1\n",
        "  >>> print(perceptron.predict(np.array([1, 0])))\n",
        "  1\n",
        "  >>> print(perceptron.predict(np.array([1, 1])))\n",
        "  0\n",
        "\"\"\"\n",
        "\n",
        "doctest.testmod()"
      ],
      "metadata": {
        "id": "tIhG7HcPjqak",
        "colab": {
          "base_uri": "https://localhost:8080/"
        },
        "outputId": "4b2c4f05-320e-4e6c-b68b-64ac1da1cbd6"
      },
      "execution_count": 28,
      "outputs": [
        {
          "output_type": "stream",
          "name": "stdout",
          "text": [
            "\n",
            "The incorrect prediction is because the XOR model cannot be separated linearly (through a straight line),while the single-layer Perceptron can only do binary classification with a linear boundary. \n",
            "There isn't a way for the single-layer Perceptron to separate the 1s from the 0s here.\n",
            "**********************************************************************\n",
            "File \"__main__\", line 5, in __main__\n",
            "Failed example:\n",
            "    print(perceptron.predict(np.array([0, 1])))\n",
            "Expected:\n",
            "    1\n",
            "Got:\n",
            "    0\n",
            "**********************************************************************\n",
            "File \"__main__\", line 9, in __main__\n",
            "Failed example:\n",
            "    print(perceptron.predict(np.array([1, 1])))\n",
            "Expected:\n",
            "    0\n",
            "Got:\n",
            "    1\n",
            "**********************************************************************\n",
            "1 items had failures:\n",
            "   2 of   4 in __main__\n",
            "***Test Failed*** 2 failures.\n"
          ]
        },
        {
          "output_type": "execute_result",
          "data": {
            "text/plain": [
              "TestResults(failed=2, attempted=4)"
            ]
          },
          "metadata": {},
          "execution_count": 28
        }
      ]
    },
    {
      "cell_type": "markdown",
      "source": [
        "## Test binary classifier\n"
      ],
      "metadata": {
        "id": "ro44uMYXbHt6"
      }
    },
    {
      "cell_type": "code",
      "source": [
        "#Test the Perceptron model\n",
        "\n",
        "#Test X and y\n",
        "X = []\n",
        "X.append(np.array([-1,5]))     #class0\n",
        "X.append(np.array([-1,7]))     #class0\n",
        "X.append(np.array([0,4]))      #class0\n",
        "X.append(np.array([1,6]))      #class0\n",
        "X.append(np.array([4,4]))      #class0\n",
        "X.append(np.array([4,8]))      #class0\n",
        "X.append(np.array([-4,2]))     #class1\n",
        "X.append(np.array([-6,-1]))    #class1\n",
        "X.append(np.array([-7,2]))     #class1\n",
        "X.append(np.array([-7,4]))     #class1\n",
        "X.append(np.array([-9,0]))     #class1\n",
        "X.append(np.array([-9,3]))     #class1\n",
        "\n",
        "y = np.array([0,0,0,0,0,0,1,1,1,1,1,1])\n",
        "\n",
        "\n",
        "#Construct Perceptron object\n",
        "#   num of inputs = number of indep variables (input nodes)\n",
        "#   epochs = 50\n",
        "#   learning rate = 1\n",
        "perceptron = Perceptron(input_units=2, epochs=50, learning_rate=1)\n",
        "\n",
        "#Train the network\n",
        "perceptron.train(X, y)\n",
        "\n",
        "\n",
        "\n",
        "import doctest\n",
        "\n",
        "\"\"\"\n",
        "  >>> print(perceptron.predict(np.array([-3, -1])))\n",
        "  1\n",
        "  >>> print(perceptron.predict(np.array([2, 3])))\n",
        "  0\n",
        "  >>> print(perceptron.predict(np.array([-10, 4])))\n",
        "  1\n",
        "  >>> print(perceptron.predict(np.array([-3, 8])))\n",
        "  0\n",
        "\"\"\"\n",
        "\n",
        "doctest.testmod()"
      ],
      "metadata": {
        "id": "PKRy266ZbSyv",
        "colab": {
          "base_uri": "https://localhost:8080/"
        },
        "outputId": "7f156c84-d11c-4317-809b-98366bc468f7"
      },
      "execution_count": 17,
      "outputs": [
        {
          "output_type": "execute_result",
          "data": {
            "text/plain": [
              "TestResults(failed=0, attempted=4)"
            ]
          },
          "metadata": {},
          "execution_count": 17
        }
      ]
    },
    {
      "cell_type": "code",
      "source": [
        "#test with 100 epochs + classification (rest of PART 2)\n",
        "import matplotlib.pyplot as plt\n",
        "#Test the Perceptron model\n",
        "\n",
        "#Test X and y\n",
        "X = []\n",
        "X.append(np.array([-1,5]))     #class0\n",
        "X.append(np.array([-1,7]))     #class0\n",
        "X.append(np.array([0,4]))      #class0\n",
        "X.append(np.array([1,6]))      #class0\n",
        "X.append(np.array([4,4]))      #class0\n",
        "X.append(np.array([4,8]))      #class0\n",
        "X.append(np.array([-4,2]))     #class1\n",
        "X.append(np.array([-6,-1]))    #class1\n",
        "X.append(np.array([-7,2]))     #class1\n",
        "X.append(np.array([-7,4]))     #class1\n",
        "X.append(np.array([-9,0]))     #class1\n",
        "X.append(np.array([-9,3]))     #class1\n",
        "\n",
        "y = np.array([0,0,0,0,0,0,1,1,1,1,1,1])\n",
        "\n",
        "\n",
        "#Construct Perceptron object\n",
        "#   num of inputs = number of indep variables (input nodes)\n",
        "#   learning rate = 1\n",
        "perceptron = Perceptron(input_units=2, epochs=100, learning_rate=1)\n",
        "\n",
        "#Train the network\n",
        "perceptron.train(X, y)\n",
        "\n",
        "\n",
        "\n",
        "import doctest\n",
        "\n",
        "\"\"\"\n",
        "  >>> print(perceptron.predict(np.array([-3, -1])))\n",
        "  1\n",
        "  >>> print(perceptron.predict(np.array([2, 3])))\n",
        "  0\n",
        "  >>> print(perceptron.predict(np.array([-10, 4])))\n",
        "  1\n",
        "  >>> print(perceptron.predict(np.array([-3, 8])))\n",
        "  0\n",
        "\"\"\"\n",
        "\n",
        "doctest.testmod()\n",
        "test_points = [np.array([2, 3]), np.array([-3, 8]), np.array([-3, -1]), np.array([-10, 4])]\n",
        "def classification_boundary(test_points):\n",
        "  for point in test_points:\n",
        "    x_test, y_test = point\n",
        "    if y_test > -x_test:\n",
        "      print(f\"point {point}: Class 0\")\n",
        "    else:\n",
        "      print(f\"point {point}: Class 1\")\n",
        "\n",
        "\n",
        "classification_boundary(test_points)\n",
        "\n",
        "for point in test_points:\n",
        "  prediction = perceptron.predict(point)\n",
        "  print(f\"Model Prediction for {point}: {prediction}\")\n",
        "\n",
        "def plot_boundary_and_data(X, y, test_points):\n",
        "  plt.figure(figsize=(8,6))\n",
        "  for i in range(len(X)):\n",
        "    if y[i] == 0:\n",
        "      plt.scatter(X[i][0], X[i][1], color='black', label='Class 0')\n",
        "    else:\n",
        "      plt.scatter(X[i][0], X[i][1], color='red', label='Class 1')\n",
        "\n",
        "  for point in test_points:\n",
        "    plt.scatter(point[0], point[1], color='blue', label=\"Test Point\")\n",
        "\n",
        "  boundary_x = np.linspace(-10,5)\n",
        "  boundary_y = -boundary_x\n",
        "  plt.plot(boundary_x, boundary_y, color='green', label='Boundary y=-x')\n",
        "\n",
        "  plt.legend()\n",
        "  plt.xlabel(\"X axis\")\n",
        "  plt.ylabel(\"Y axis\")\n",
        "  plt.title(\"Classification boundary and predictions\")\n",
        "  plt.grid()\n",
        "  plt.show()\n",
        "\n",
        "plot_boundary_and_data(X, y, test_points)\n",
        "\n"
      ],
      "metadata": {
        "colab": {
          "base_uri": "https://localhost:8080/",
          "height": 703
        },
        "id": "fVAhqKpYfvpW",
        "outputId": "6ccd5bc0-4c0c-4ea1-b281-6bbb011abcda"
      },
      "execution_count": 22,
      "outputs": [
        {
          "output_type": "stream",
          "name": "stdout",
          "text": [
            "point [2 3]: Class 0\n",
            "point [-3  8]: Class 0\n",
            "point [-3 -1]: Class 1\n",
            "point [-10   4]: Class 1\n",
            "Model Prediction for [2 3]: 0\n",
            "Model Prediction for [-3  8]: 0\n",
            "Model Prediction for [-3 -1]: 1\n",
            "Model Prediction for [-10   4]: 1\n"
          ]
        },
        {
          "output_type": "display_data",
          "data": {
            "text/plain": [
              "<Figure size 800x600 with 1 Axes>"
            ],
            "image/png": "[encoded data removed]"
          },
          "metadata": {}
        }
      ]
    }
  ]
}