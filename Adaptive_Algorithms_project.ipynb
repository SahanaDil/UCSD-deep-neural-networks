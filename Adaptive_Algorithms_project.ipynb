{
  "nbformat": 4,
  "nbformat_minor": 0,
  "metadata": {
    "colab": {
      "provenance": [],
      "include_colab_link": true
    },
    "kernelspec": {
      "display_name": "Python 3",
      "name": "python3"
    },
    "language_info": {
      "name": "python"
    }
  },
  "cells": [
    {
      "cell_type": "markdown",
      "metadata": {
        "id": "view-in-github",
        "colab_type": "text"
      },
      "source": [
        "<a href=\"https://colab.research.google.com/github/SahanaDil/UCSD-deep-neural-networks/blob/main/Adaptive_Algorithms_project.ipynb\" target=\"_parent\"><img src=\"https://colab.research.google.com/assets/colab-badge.svg\" alt=\"Open In Colab\"/></a>"
      ]
    },
    {
      "cell_type": "markdown",
      "metadata": {
        "id": "Zra2U2daffjH"
      },
      "source": [
        "# Adaptive Algorithms in Neural Networks\n",
        "\n",
        "In this project, we'll implement several adaptive optimizers to improve the performance in the descent algorithm.\n",
        "\n",
        "The following instructions are identified as Steps in the text cells preceding their corresponding code cell. Read through the instructions and write/fill-in the appropriate code in the cells.\n",
        "\n",
        "Note, you will need the base classes (Layer, Dense, Model) from the DNN framework that you updated in the previous assignment. You may reuse your previous code as needed.  \n",
        "\n",
        "You'll also need the imports, plot functions and dataset generation code from the previous assignments.\n"
      ]
    },
    {
      "cell_type": "code",
      "source": [
        "import numpy as np\n",
        "\n",
        "import h5py\n",
        "import matplotlib.pyplot as plt\n",
        "import math\n",
        "\n",
        "from sklearn.datasets import make_circles\n",
        "from sklearn.model_selection import train_test_split\n",
        "from sklearn.datasets import make_moons\n",
        "import seaborn as sns\n",
        "from matplotlib import cm\n",
        "from mpl_toolkits.mplot3d import Axes3D\n"
      ],
      "metadata": {
        "id": "eHJdBil-9lZv"
      },
      "execution_count": 1,
      "outputs": []
    },
    {
      "cell_type": "markdown",
      "metadata": {
        "id": "0V5C_6aFUwjM"
      },
      "source": [
        "## The Framework\n",
        "Implement the Layer, Dense, and Model classes you wrote and tested in the previous units.  "
      ]
    },
    {
      "cell_type": "markdown",
      "metadata": {
        "id": "5jtVWfp4bL5r"
      },
      "source": [
        "**Step 1:**  \n",
        "\n",
        "Recreate the Layer class.\n",
        "Note, the new argument \"train_or_test\" has been included in the Layer constructor to let you specify if you are training or testing.   \n",
        "\n",
        "<br>\n",
        "Note, this code is the same as in the previous assignment."
      ]
    },
    {
      "cell_type": "code",
      "metadata": {
        "id": "ps4RYkwnE2KD"
      },
      "source": [
        "class Layer:\n",
        "\n",
        "  def __init__(self, output_units, input_units, activation,initialization, train_or_test):\n",
        "\n",
        "    self.learning_rate = 0.01\n",
        "\n",
        "    if initialization == 'he':\n",
        "      self.weights = np.random.randn(output_units, input_units) * np.sqrt((2/input_units))\n",
        "    if initialization == 'random':\n",
        "      self.weights = np.random.randn(output_units, input_units) * 0.01\n",
        "\n",
        "    self.biases = np.zeros((output_units,1))\n",
        "\n",
        "    self.activation = activation\n",
        "\n",
        "\n",
        "  #Sigmoid activation:\n",
        "  def sigmoid(self, Z):\n",
        "    Z = np.clip(Z, -500, 500)\n",
        "    return 1 / (1 + np.exp(-Z))\n",
        "\n",
        "  #ReLu activation:  return the activation of Z applied to the ReLu function\n",
        "  def relu(self, Z):\n",
        "    return np.maximum(0,Z)\n",
        "\n",
        "  #Tanh activation:  return the activation of Z applied to the tanh function\n",
        "  #Note, use the numpy tanh function here\n",
        "  def tanh(self, Z):\n",
        "    return np.tanh(Z)\n",
        "\n",
        "  # Backward activations\n",
        "  # Computes the derivatives of activation functions.\n",
        "  def activation_backwards(self,Z, dA):\n",
        "    # Check the activation function then calc the activiation gradient\n",
        "    #       (e.g. sigmoid_grad, relu_grad, tanh_grad)\n",
        "    #Sigmoid\n",
        "    if self.activation == 'sigmoid':\n",
        "      sigmoid= 1/(1 + np.exp(-Z))\n",
        "      grad = sigmoid * (1-sigmoid)\n",
        "      return dA * grad\n",
        "\n",
        "    elif self.activation == 'relu':\n",
        "      grad = np.where(Z > 0, 1, 0)\n",
        "      return dA * grad\n",
        "\n",
        "    elif self.activation == 'tanh':\n",
        "      tanh = np.tanh(Z)\n",
        "      grad = 1 - tanh ** 2\n",
        "      return dA * grad\n",
        "\n",
        "\n",
        "\n",
        "\n",
        "  #Abstract methods - will complete in child classes\n",
        "  def forward(self, X, train_or_test):\n",
        "      self.X = X\n",
        "      self.Z = np.dot(self.weights, X) + self.biases\n",
        "      if self.activation == 'sigmoid':\n",
        "        self.A = self.sigmoid(self.Z)\n",
        "      elif self.activation == 'relu':\n",
        "        self.A = self.relu(self.Z)\n",
        "      elif self.activation == 'tanh':\n",
        "        self.A = self.tanh(self.Z)\n",
        "\n",
        "      return self.A\n",
        "\n",
        "  def backward(self, dA, optimizer, i):\n",
        "      m = self.X.shape[0]\n",
        "      dZ = self.activation_backwards(self.Z, dA)\n",
        "      self.dW = np.dot(self.X.T, dZ) / m\n",
        "      self.db = np.sum(dZ, axis=0)/m\n",
        "      dX = np.dot(dZ, self.W.T)\n",
        "      return dX\n",
        "\n",
        "  def update(self, learning_rate, optimizer):\n",
        "      self.weights -= self.learning_rate * self.dW\n",
        "      self.biases -= self.learning_rate * self.db"
      ],
      "execution_count": 88,
      "outputs": []
    },
    {
      "cell_type": "markdown",
      "metadata": {
        "id": "hudVYY4zZaBn"
      },
      "source": [
        "**Step 2:**  \n",
        "Recreate the Dense class from the previous units You will need the constructor(), forward(), backward(), and update() methods.  \n",
        "<br>\n",
        "**Momentum:**  \n",
        "For the first algorithm, momentum, we’ll need to initialize V_dW, V_db, and beta (which we’ve called beta1). Since V_dW and V_db are simply matrices containing exponential moving averages (or EMAs) for each parameter in the model, they should be the same shape as the weights and biases matrices. This means you can use the numpy function 'np.zeros()' to initialize V_dW with the same shape as the weights matrix, and use 'np.zeros()' to initialize V_db with the same shape as the biases matrix. Initialize beta1 to 0.9.  \n",
        "<br>\n",
        "**backward():**   \n",
        "- Navigate to the backward() function. We previously modified this function to also take as arguments the optimizer (a string), and the iteration number. You can see that we calculate dW and db as usual.  First, notice that we increment the iteration by 1. This is because in our iteration ‘for’ loop in the fit() method, we loop from 0 to the number of total epochs. For bias correction purposes, it will work much better to think of the first epoch as epoch 1 rather than epoch 0, so we increase the value of i by 1. This helps us avoid division by zero.\n",
        "- Next, we can start working on the first conditional block. Modify the first if statement to check if the optimizer is the string ‘momentum’.  You can then calculate V_dW and V_db as was discussed on the lecture video by coding the appropriate equations, and store them as instance variables.   \n",
        "  - $V_{dW}=\\beta_1\\cdot V_{dW}+(1-\\beta_1)\\cdot dW$\n",
        "  - $V_{db}=\\beta_1\\cdot V_{db}+(1-\\beta_1)\\cdot db$\n",
        "\n",
        "Remember when using beta1 in  you calculations that it is an instance variable so you will need to use ‘self.beta1’\n",
        "\n",
        "- The next step is to implement bias correction. We want the bias corrected value of V_dW, which we’ll call V_dW_corr  \n",
        "  - $V_{dWcorr}=\\frac{V_{dW}}{\\sqrt{1-\\beta_1^{\\text{ } iteration}}}$,  where ’t’ is the iteration number.   \n",
        "\n",
        "- Do the same for V_db_corr using V_db.   \n",
        "  - $V_{dbcorr}=\\frac{V_{db}}{\\sqrt{1-\\beta_1^{\\text{ } iteration}}}$\n",
        "\n",
        "\n",
        "**update():**  \n",
        "- Now that we have bias corrected value of V_dW and V_db, we can move on to the update() function. Use an if statement to check if the optimizer is ‘momentum’.   \n",
        "- Then, implement the update steps as we discussed in the lecture video, but use the bias corrected values.  For example, you should update the weights with self.weights:  \n",
        "  - $W=W-\\alpha\\cdot V_{dWcorr}$    \n",
        "  - $b=b-\\alpha\\cdot V_{dbcorr}$  \n",
        "\n",
        "Note, you can leave the code commented for RMSprop and Adam as-is for now.  You will fill the details for those optimizers in a later step.   \n",
        "\n",
        "Don’t forget that once you have completed your additions to the Dense class, you’ll need to rerun the Dense class cell and Model class cell to activate the changes for use in the subsequent code.\n",
        "\n"
      ]
    },
    {
      "cell_type": "code",
      "metadata": {
        "id": "iouBRXKm1teH"
      },
      "source": [
        "class Dense(Layer):\n",
        "\n",
        "  # Inherit from the Layer class.\n",
        "  def __init__(self, output_units, input_units, activation, initialization='he', train_or_test='train'):\n",
        "    super().__init__(output_units, input_units, activation, initialization, train_or_test)\n",
        "\n",
        "    # Initialize moving averages and hyperparameter values.\n",
        "    self.V_dW = np.zeros_like(self.weights)\n",
        "    self.V_db = np.zeros_like(self.biases)\n",
        "    self.beta1 = 0.9\n",
        "    self.S_dW = np.zeros_like(self.weights)\n",
        "    self.S_db = np.zeros_like(self.biases)\n",
        "    self.beta2 = 0.999\n",
        "    self.epsilon = 1e-8\n",
        "\n",
        "\n",
        "  # Forward step for a single layer.\n",
        "  def forward(self, input, train_or_test):\n",
        "    self.input = input\n",
        "    Z = np.dot(self.weights, self.input) + self.biases\n",
        "    self.Z = Z\n",
        "\n",
        "    if self.activation == \"sigmoid\":\n",
        "      A = self.sigmoid(Z)\n",
        "\n",
        "    elif self.activation == \"relu\":\n",
        "      A = self.relu(Z)\n",
        "\n",
        "    elif self.activation == 'tanh':\n",
        "      A = self.tanh(Z)\n",
        "\n",
        "    self.A = A\n",
        "\n",
        "    assert (self.Z.shape == (self.weights.shape[0], self.A.shape[1]))\n",
        "    assert (self.A.shape == (self.weights.shape[0], self.input.shape[1]))\n",
        "\n",
        "    return A\n",
        "\n",
        "\n",
        "  # Backward step for a single layer.\n",
        "  def backward(self, dA_prev, optimizer, iteration):\n",
        "    dZ = self.activation_backwards(self.Z, dA_prev)\n",
        "    m = self.input.shape[1]\n",
        "    self.dW = (1 / m) * np.dot(dZ, self.input.T)\n",
        "    self.db = (1 / m) * np.sum(dZ, axis = 1, keepdims = True)\n",
        "    dA_prev = np.dot(self.weights.T, dZ)\n",
        "\n",
        "\n",
        "    # Iteration counter.\n",
        "    iteration += 1\n",
        "\n",
        "    # Compute V_dW and V_db using momentum.\n",
        "    if optimizer == 'momentum':\n",
        "      self.V_dW = self.beta1 * self.V_dW + (1-self.beta1) * self.dW\n",
        "      self.V_db = self.beta1 * self.V_db + (1-self.beta1) * self.db\n",
        "\n",
        "      # Calculate the bias corrected values of V_dW and V_db.\n",
        "      self.V_dW_corr = self.V_dW/(1-self.beta1**iteration)\n",
        "      self.V_db_corr = self.V_db/(1-self.beta1**iteration)\n",
        "\n",
        "    # Calculate S_dW and S_db for RMSprop.\n",
        "    elif optimizer == 'RMSprop':\n",
        "      self.S_dW = self.beta2 * self.S_dW + (1 - self.beta2) * (self.dW ** 2)\n",
        "      self.S_db = self.beta2 * self.S_db + (1 - self.beta2) * (self.db ** 2)\n",
        "\n",
        "      # Calculate the bias corrected values of S_dW and S_db.\n",
        "      self.S_dW_corr = self.S_dW/(1-self.beta2**iteration)\n",
        "      self.S_db_corr = self.S_db/(1-self.beta2**iteration)\n",
        "\n",
        "    # Calculate V_dW, V_db, S_dW, and S_db for Adam.\n",
        "    elif optimizer == 'Adam':\n",
        "      self.V_dW = self.beta1 * self.V_dW + (1-self.beta1) * self.dW\n",
        "      self.V_db = self.beta1 * self.V_db + (1-self.beta1) * self.db\n",
        "      self.S_dW = self.beta2 * self.S_dW + (1 - self.beta2) * (self.dW ** 2)\n",
        "      self.S_db = self.beta2 * self.S_db + (1 - self.beta2) * (self.db ** 2)\n",
        "\n",
        "\n",
        "      # Bias correct the values.\n",
        "      self.V_dW_corr = self.V_dW/(1-self.beta1**iteration)\n",
        "      self.V_db_corr = self.V_db/(1-self.beta1**iteration)\n",
        "      self.S_dW_corr = self.S_dW/(1-self.beta2**iteration)\n",
        "      self.S_db_corr = self.S_db/(1-self.beta2**iteration)\n",
        "\n",
        "\n",
        "    assert (dA_prev.shape == self.input.shape)\n",
        "    assert (self.dW.shape == self.weights.shape)\n",
        "    assert (self.db.shape == self.biases.shape)\n",
        "\n",
        "    return dA_prev\n",
        "\n",
        "  # Parameter update for a single layer.\n",
        "  def update(self, learning_rate, optimizer):\n",
        "\n",
        "    if optimizer == 'gradient descent':\n",
        "      self.weights = self.weights - learning_rate*self.dW\n",
        "      self.biases = self.biases - learning_rate*self.db\n",
        "\n",
        "\n",
        "    # For momentum, update the parameters using the bias corrected values of V_dW and V_db.\n",
        "    elif optimizer == 'momentum':\n",
        "      self.weights = self.weights - learning_rate * self.V_dW_corr\n",
        "      self.biases = self.biases - learning_rate * self.V_db_corr\n",
        "\n",
        "\n",
        "    # For RMSprop, update the weights using the bias corrected values of S_dW and S_db.\n",
        "    elif optimizer == 'RMSprop':\n",
        "      self.weights -= learning_rate * self.dW / (np.sqrt(self.S_dW_corr)+self.epsilon)\n",
        "      self.biases -= learning_rate * self.db / (np.sqrt(self.S_db_corr)+self.epsilon)\n",
        "\n",
        "    # For Adam, update the weights using the bias corrected values of V_dW, V_db, S_dW, and S_db.\n",
        "    elif optimizer == 'Adam':\n",
        "      self.weights -= learning_rate * self.V_dW_corr / (np.sqrt(self.S_dW_corr)+self.epsilon)\n",
        "      self.biases -= learning_rate * self.V_db_corr / (np.sqrt(self.S_db_corr)+self.epsilon)\n"
      ],
      "execution_count": 89,
      "outputs": []
    },
    {
      "cell_type": "markdown",
      "metadata": {
        "id": "AhHEGNd8bkbP"
      },
      "source": [
        "**Step 3:**  \n",
        "Recreate the Model class.  You will need the constructor and the following methods:\n",
        "\n",
        "- build()\n",
        "- feedforward()\n",
        "- compute_cost()\n",
        "- backpropagation()\n",
        "- parameter_update()\n",
        "- train()\n",
        "- fit()\n",
        "- predict()\n",
        "- evaluate()  \n",
        "\n",
        "<br>\n",
        "Note, this code is the same as the previous assignment with the addition of a new method.\n"
      ]
    },
    {
      "cell_type": "markdown",
      "metadata": {
        "id": "ZC5yn_8eE-wi"
      },
      "source": [
        "**Step 4:**  \n",
        "Add a new method, make_minibatch()   \n",
        "First, we shuffle the data (see #1 in the code template).  This is important as it makes each minibatch more likely to be representative of the overall distribution.   \n",
        "Next, we partition the data into batches of size “mini batch size” (see #2 in the code template).  For example, if we partition our training dataset into 90 examples, this means with a batch_size of 16, we’ll have 5 full mini-batches, and then one left over containing only 10 examples.    Here, we want to iterate over the number of minibatches.  You can see that we are using multidimensional array slicing to index from the “kth” example to the example indexed by “k + batch_size”.  This then completes a minibatch.    \n",
        "Then, we need to process the special case for the final minibatch.  This minibatch should take the leftover examples and put them into a minibatch.\n"
      ]
    },
    {
      "cell_type": "markdown",
      "metadata": {
        "id": "6vJBJAXrJ7Q7"
      },
      "source": [
        "**Step 5:**  \n",
        "Next, let’s look at the” fit” function. Here, you can see now that we need a “for loop” over the minibatches.\n",
        "We can do this by iterating through the list of minibatches for X and Y, since the “make_minibatch” function returns a list of tuples.\n",
        "Inside the “for loop”, you can perform batch descent as normal, except this time using the size of the minibatch as “m”.\n",
        "Essentially you would treat each minibatch as an entire training set and perform descent on it.\n",
        "However, since the minibatches will be much smaller than the overall training set, this means you will be taking more steps per epoch and convergence will happen faster.\n",
        "Typically, we create minibatches of size n where n is a power of 2, since this is convenient for CPU and GPU implementations and storage.\n",
        "You’ll therefore often see and use minibatches of size 16, 32, 64, or some other power of 2.\n",
        "\n"
      ]
    },
    {
      "cell_type": "markdown",
      "metadata": {
        "id": "D3bssxFAFLbk"
      },
      "source": [
        "**Step 6:**  \n",
        "Finally, we also need to recreate the plot() method from the previous assignment used to plot the training costs.  \n"
      ]
    },
    {
      "cell_type": "code",
      "metadata": {
        "id": "hRfieLXt14YL"
      },
      "source": [
        "class Model:\n",
        "\n",
        "  def __init__(self):\n",
        "    self.epsilon = 1e-8\n",
        "\n",
        "  def build(self, network):\n",
        "    self.network = network\n",
        "\n",
        "  # Forward propagation.\n",
        "  def feedforward(self, X, train_or_test):\n",
        "\n",
        "    # Set the input to X.\n",
        "    input = X\n",
        "\n",
        "    # Loop over the layers and call the forward method on each input.\n",
        "    for l in self.network:\n",
        "      input = l.forward(input, train_or_test) # We pass train_or_test here to specify if this is training or test time.\n",
        "\n",
        "    # Set AL to the final value of input (i.e. the output of the final layer).\n",
        "    AL = input\n",
        "    assert (AL.shape == (1, X.shape[1]))\n",
        "\n",
        "    return AL\n",
        "\n",
        "  # Compute cost - remember to call np.squeeze().\n",
        "  def compute_cost(self, m, AL, Y):\n",
        "    cost = (-1 / m) * np.sum(Y * np.log(AL + self.epsilon) + (1 - Y) * np.log(1 - AL + self.epsilon))\n",
        "    cost = np.squeeze(cost)\n",
        "\n",
        "    return cost\n",
        "\n",
        "\n",
        "  # Backpropagate through  layers.\n",
        "  def backpropagation(self, dAL, optimizer, i):\n",
        "\n",
        "    # Set dA_prev to dAL.\n",
        "    dA_prev = dAL\n",
        "\n",
        "    # Loop over the layers in reverse and call the backward method on each dA_prev.\n",
        "    for l in reversed(self.network):\n",
        "      # We pass the optimizer and iteration here so we can compute the backprop steps.\n",
        "      dA_prev = l.backward(dA_prev, optimizer,i)\n",
        "\n",
        "\n",
        "  # Parameter update.\n",
        "  def parameter_update(self, learning_rate, optimizer):\n",
        "\n",
        "    # Loop over layers and call the update method from each.\n",
        "    for l in self.network:\n",
        "      l.update(learning_rate, optimizer)\n",
        "\n",
        "    ### END CODE HERE ###\n",
        "\n",
        "  # Sinlge iteration of descent.\n",
        "  def train(self, X, Y, learning_rate, optimizer, i):\n",
        "\n",
        "    # Extract number of example from the shape of Y.\n",
        "    m = Y.shape[1]\n",
        "\n",
        "    # Compute AL by running forward propagation.\n",
        "    AL = self.feedforward(X, train_or_test='train')\n",
        "\n",
        "    # Cost calculation.\n",
        "    cost = self.compute_cost(m, AL, Y)\n",
        "\n",
        "    Y = Y.reshape(AL.shape)\n",
        "\n",
        "    # Initialize backpropagation by calculating dAL.\n",
        "    dAL = - (np.divide(Y, (AL + self.epsilon)) - np.divide(1 - Y, (1 - AL + self.epsilon)))\n",
        "\n",
        "    # Backpropagate through layers.\n",
        "    self.backpropagation(dAL, optimizer, i)\n",
        "\n",
        "    # Update parameters.\n",
        "    self.parameter_update(learning_rate, optimizer)\n",
        "\n",
        "    return cost\n",
        "\n",
        "\n",
        "  # Function for training loop.\n",
        "  def fit(self, X_train, Y_train, epochs, learning_rate, batch_size, optimizer='gradient descent', verbose=False, callback=None):\n",
        "\n",
        "    # Initialize list of costs.\n",
        "    costs = []\n",
        "\n",
        "    # Make minibatches from the input data.\n",
        "    mini_batches_train = self.make_minibatch(X_train, Y_train, batch_size)\n",
        "\n",
        "    # Loop over epochs.\n",
        "    for i in range(epochs):\n",
        "\n",
        "      # Loop over minibatches.\n",
        "      for mini_batch_X, mini_batch_Y in mini_batches_train:\n",
        "\n",
        "        # Call the train method and append the cost to the list. Remember to pass the optimizer and iteration number to train().\n",
        "        cost = self.train(mini_batch_X, mini_batch_Y, learning_rate, optimizer, i)\n",
        "        # Append the iteration and cost to the list as a tuple.\n",
        "        costs.append((i, cost))\n",
        "\n",
        "      if (i % 50 == 0):\n",
        "        if verbose==True:\n",
        "          print (\"Iteration: {}, cost: {}\". format(i, cost))\n",
        "\n",
        "        if (callback is not None):\n",
        "          callback(i, X_train, Y_train)\n",
        "\n",
        "    return costs\n",
        "\n",
        "\n",
        "  # Predict labels.\n",
        "  def predict(self, X):\n",
        "\n",
        "    # Get the predictions (output of the final layer after training). Remember to specify that this is test time.\n",
        "    predictions = self.feedforward(X, train_or_test='test')\n",
        "\n",
        "    # Set predictions to either 0 or 1.\n",
        "    predictions = np.where(predictions > 0.5, 1, 0)\n",
        "    return predictions\n",
        "\n",
        "  # Evaluate prediction accuracy.\n",
        "  def evaluate(self, predictions, Y):\n",
        "\n",
        "    # calculate accuracy.\n",
        "    accuracy = (100 - np.mean(np.abs(predictions - Y)) * 100)\n",
        "\n",
        "    return accuracy\n",
        "\n",
        "\n",
        "  # Batching function\n",
        "  def make_minibatch(self, X, Y, mini_batch_size):\n",
        "\n",
        "    # To make your \"random\" minibatches the same each time.\n",
        "    np.random.seed(0)  #Do not change, for grading purposes\n",
        "\n",
        "    m = X.shape[1]\n",
        "\n",
        "    # List of minibatches.\n",
        "    mini_batches = []\n",
        "\n",
        "    # 1: Shuffle (X, Y)\n",
        "    permutation = list(np.random.permutation(m))\n",
        "    shuffled_X = X[:, permutation]\n",
        "    shuffled_Y = Y[:, permutation].reshape((1,m))\n",
        "\n",
        "    # 2: Partition (shuffled_X, shuffled_Y). Minus the end case.\n",
        "    num_complete_minibatches = math.floor(m/mini_batch_size) # number of mini batches of size mini_batch_size in your partitionning\n",
        "    for k in range(0, num_complete_minibatches):\n",
        "\n",
        "      mini_batch_X = shuffled_X[:, (k * mini_batch_size) : ((k + 1) * mini_batch_size)]\n",
        "      mini_batch_Y = shuffled_Y[:, (k * mini_batch_size) : ((k + 1) * mini_batch_size)]\n",
        "\n",
        "      mini_batch = (mini_batch_X, mini_batch_Y)\n",
        "      mini_batches.append(mini_batch)\n",
        "\n",
        "    # 3. Handling the end case (last mini-batch < mini_batch_size)\n",
        "    if m % mini_batch_size != 0:\n",
        "\n",
        "      mini_batch_X = shuffled_X[:, (mini_batch_size * math.floor((m / mini_batch_size))) : m]\n",
        "      mini_batch_Y = shuffled_Y[:, (mini_batch_size * math.floor((m / mini_batch_size))) : m]\n",
        "\n",
        "      mini_batch = (mini_batch_X, mini_batch_Y)\n",
        "      mini_batches.append(mini_batch)\n",
        "\n",
        "    return mini_batches"
      ],
      "execution_count": 90,
      "outputs": []
    },
    {
      "cell_type": "code",
      "metadata": {
        "id": "k9WEHoa0O050"
      },
      "source": [
        "# Use matplotlib to plot the costs (same as previous assignment).\n",
        "\n",
        "def plot(costs):\n",
        "  # Use *zip() to plot the list of tuples of (iteration, cost).\n",
        "  iterations, cost_values = zip(*costs)\n",
        "\n",
        "  plt.plot(iterations, cost_values)\n",
        "  plt.xlabel(\"Iteration\")\n",
        "  plt.ylabel(\"Cost\")\n",
        "  plt.title(\"Training cost over iteration\")\n",
        "\n",
        "  return plt"
      ],
      "execution_count": 91,
      "outputs": []
    },
    {
      "cell_type": "markdown",
      "metadata": {
        "id": "nGd1FSkJUDr4"
      },
      "source": [
        "## Planar Data\n",
        "**Step 7:**  \n",
        "Now we’re going to recap how to build a model and train it on data.\n",
        "In our project, we’re going to be working with a binary classification planar dataset like the one we used previously.\n",
        "However, this dataset will be a little harder to classify, since we only have 100 examples, and the dataset is relatively noisy.\n",
        "Run the code provided to create the dataset, and then call the “make plot” function as you did in the previous unit to see the dataset visualized.  This planar dataset could represent any labelled data that is describable in two dimensions – for instance,  x and y coordinates of the location from where a basketball shot was made, and the label (that is the color of the data point)  representing whether or not the shot went in.\n",
        "This makes our model widely applicable to a range of problems. Once you have plotted the dataset, run the reshaping cell and then call “see shapes”.\n",
        "You should see that we have a 90-10% train –test split.\n",
        "\n",
        "Run the \"Reshaping\" cell then check the shapes of the train and test dataset to see more information about your data. You should see the following shapes:\n",
        "\n",
        "- X_train shape: (2, 90)\n",
        "- Y_train shape: (1, 90)\n",
        "- X_test shape: (2, 10)\n",
        "- Y_test shape: (1, 10)  \n",
        "\n",
        "Each example has two features (that is, the x and y coordinates in the plane) and one label (that is, the color of the point).\n"
      ]
    },
    {
      "cell_type": "code",
      "metadata": {
        "id": "n7tSrJJyXE3r"
      },
      "source": [
        "# number of samples in the data set\n",
        "N_SAMPLES = 100\n",
        "\n",
        "# Load the data and split into a train and test set.\n",
        "X, Y = make_moons(n_samples = N_SAMPLES, noise=0.5, random_state=100)\n",
        "X_train, X_test, Y_train, Y_test = train_test_split(X, Y, test_size=0.1, random_state=42)"
      ],
      "execution_count": 52,
      "outputs": []
    },
    {
      "cell_type": "code",
      "metadata": {
        "id": "taEnAnrpXE6x"
      },
      "source": [
        "# The function to graph the dataset (same as previous assignment)\n",
        "\n",
        "def make_plot(X, y, plot_name, file_name=None, XX=None, YY=None, preds=None, dark=False):\n",
        "    if (dark):\n",
        "        plt.style.use('dark_background')\n",
        "    else:\n",
        "        sns.set_style(\"whitegrid\")\n",
        "    plt.figure(figsize=(16,12))\n",
        "    axes = plt.gca()\n",
        "    axes.set(xlabel=\"$X_1$\", ylabel=\"$X_2$\")\n",
        "    plt.title(plot_name, fontsize=30)\n",
        "    plt.subplots_adjust(left=0.20)\n",
        "    plt.subplots_adjust(right=0.80)\n",
        "    if(XX is not None and YY is not None and preds is not None):\n",
        "        plt.contourf(XX, YY, preds.reshape(XX.shape), 25, alpha = 1, cmap=cm.Spectral)\n",
        "        plt.contour(XX, YY, preds.reshape(XX.shape), levels=[.5], cmap=\"Greys\", vmin=0, vmax=.6)\n",
        "    plt.scatter(X[:, 0], X[:, 1], c=y.ravel(), s=40, cmap=plt.cm.Spectral, edgecolors='black')\n",
        "    if(file_name):\n",
        "        plt.savefig(file_name)\n",
        "        plt.close()"
      ],
      "execution_count": 53,
      "outputs": []
    },
    {
      "cell_type": "code",
      "metadata": {
        "id": "LETRItLZXE9T",
        "colab": {
          "base_uri": "https://localhost:8080/",
          "height": 1000
        },
        "outputId": "2f8a4463-4c16-4449-be31-228e544351b0"
      },
      "source": [
        "# Call make_plot (pass X, Y, and the name of the plot only).\n",
        "make_plot(X, Y, 'planar_plot')\n"
      ],
      "execution_count": 54,
      "outputs": [
        {
          "output_type": "display_data",
          "data": {
            "text/plain": [
              "<Figure size 1600x1200 with 1 Axes>"
            ],
            "image/png": "[encoded data removed]"
          },
          "metadata": {}
        }
      ]
    },
    {
      "cell_type": "code",
      "metadata": {
        "id": "pz3NHtq6j-EG",
        "colab": {
          "base_uri": "https://localhost:8080/"
        },
        "outputId": "140ad85e-6d00-4712-d39a-d9ff6af92c52"
      },
      "source": [
        "# Reshaping.\n",
        "X_train = X_train.T\n",
        "X_test = X_test.T\n",
        "Y_train = Y_train.reshape(1, Y_train.shape[0])\n",
        "Y_test = Y_test.reshape(1, Y_test.shape[0])\n",
        "\n",
        "\n",
        "import doctest\n",
        "\n",
        "'''\n",
        "  >>> print(X_train.shape)\n",
        "  (2, 90)\n",
        "  >>> print(X_test.shape)\n",
        "  (2, 10)\n",
        "  >>> print(Y_train.shape)\n",
        "  (1, 90)\n",
        "  >>> print(Y_test.shape)\n",
        "  (1, 10)\n",
        "'''\n",
        "\n",
        "doctest.testmod()"
      ],
      "execution_count": 55,
      "outputs": [
        {
          "output_type": "execute_result",
          "data": {
            "text/plain": [
              "TestResults(failed=0, attempted=4)"
            ]
          },
          "metadata": {},
          "execution_count": 55
        }
      ]
    },
    {
      "cell_type": "markdown",
      "metadata": {
        "id": "RxNiPMjbUGZC"
      },
      "source": [
        "## Optimization Algorithms"
      ]
    },
    {
      "cell_type": "markdown",
      "metadata": {
        "id": "m_yug9cxGrsM"
      },
      "source": [
        "### Momentum\n",
        "\n",
        "Now it is time to test your model.  \n",
        "<br>\n",
        "**Step 8:**  \n",
        "\n",
        "Instantiate your model and build it with the same network architecture as before. That is construct the model with 2 inputs nodes, which is equal to the shape of the planar dataset, Dense layers of 25, 50, 50, and 25 nodes each, and an output layer of 1 node. Set each layer’s activation function to ‘relu’ except for the output layer, which should be set to ‘sigmoid’.\n",
        "\n",
        "We’re going to use all of our new algorithms in conjunction with ‘minibatch descent’. As such, when fitting your model to the data, use 50,000 epochs, a learning_rate of 0.001, a batch size of 16, and set the optimizer to ‘momentum’. Run the training, plot the costs, make predictions, and evaluate your train and test accuracy."
      ]
    },
    {
      "cell_type": "code",
      "metadata": {
        "id": "4LopjRPwFPFB"
      },
      "source": [
        "# Instantiate your model.\n",
        "momentum_model = Model()\n",
        "\n",
        "# Build a deep neural network.\n",
        "momentum_model.build([\n",
        "                  Dense(output_units=25, input_units=2, activation='relu'),\n",
        "                  Dense(output_units=50, input_units=25, activation='relu'),\n",
        "                  Dense(output_units=50, input_units=50, activation='relu'),\n",
        "                  Dense(output_units=25, input_units=50, activation='relu'),\n",
        "                  Dense(output_units=1, input_units=25, activation='sigmoid'),\n",
        "])\n"
      ],
      "execution_count": 58,
      "outputs": []
    },
    {
      "cell_type": "markdown",
      "metadata": {
        "id": "7Oh5aewVfBjq"
      },
      "source": [
        "**Step 9:**\n",
        "\n",
        "We’re going to use all of our new algorithms in conjunction with ‘minibatch descent’.\n",
        "As such, when fitting your model to the data, use 50,000 epochs, a learning_rate of 0.001, a batch size of 16, and set the optimizer to ‘momentum’.  Run the training, plot the costs, make predictions, and evaluate your train and test accuracy."
      ]
    },
    {
      "cell_type": "code",
      "metadata": {
        "id": "mUi7o6qLLuYI"
      },
      "source": [
        "# Use the momentum algorithm by setting the optimizer to 'momentum'. Set the batch size to 16.\n",
        "# Fit your model to the training data with 50000 epochs and a learning_rate of 0.001.\n",
        "costs = momentum_model.fit(X_train, Y_train, epochs=50000, learning_rate=0.001, batch_size=16, optimizer='momentum')\n"
      ],
      "execution_count": 59,
      "outputs": []
    },
    {
      "cell_type": "markdown",
      "metadata": {
        "id": "zzpv0YjDfVPp"
      },
      "source": [
        "**Steps 10-13:**  \n",
        "Plot your costs and take a look at the graph. You should see that in comparison to regular minibatch descent, descent with momentum converges more quickly and trains with lower variance cost estimates. You can see this from the smaller blue area in the graph for momentum as compared to minibatch descent.\n",
        "Finally, run your predictions for the train and test sets, and evaluate the accuracy of each."
      ]
    },
    {
      "cell_type": "code",
      "metadata": {
        "id": "J0ucEBWxLxPA",
        "colab": {
          "base_uri": "https://localhost:8080/",
          "height": 1000
        },
        "outputId": "668af177-7300-4bf1-e635-8d0ca5ca1b6a"
      },
      "source": [
        "# Plot the costs.\n",
        "plot(costs)\n",
        "\n",
        "\n",
        "\n",
        "# 100 samples / 16 batch size = 6.25 samples per batch\n",
        "# 6 samples per epoch * 50000 epochs = 300000 costs\n",
        "import doctest\n",
        "\n",
        "\"\"\"\n",
        "  >>> print(np.round(costs[0][1], 3))\n",
        "  0.811\n",
        "  >>> print(np.round(costs[1500][1], 3))\n",
        "  0.425\n",
        "  >>> print(np.round(costs[3500][1], 3))\n",
        "  0.215\n",
        "  >>> print(np.round(costs[15000][1], 3))\n",
        "  0.386\n",
        "  >>> print(np.round(costs[32000][1], 3))\n",
        "  0.2\n",
        "  >>> print(np.round(costs[75000][1], 3))\n",
        "  0.259\n",
        "  >>> print(np.round(costs[150000][1], 3))\n",
        "  0.032\n",
        "  >>> print(np.round(costs[299999][1], 3))\n",
        "  0.0\n",
        "\"\"\"\n",
        "\n",
        "doctest.testmod()"
      ],
      "execution_count": 60,
      "outputs": [
        {
          "output_type": "stream",
          "name": "stdout",
          "text": [
            "**********************************************************************\n",
            "File \"__main__\", line 3, in __main__\n",
            "Failed example:\n",
            "    print(np.round(costs[0][1], 3))\n",
            "Expected:\n",
            "    0.811\n",
            "Got:\n",
            "    0.69\n",
            "**********************************************************************\n",
            "File \"__main__\", line 5, in __main__\n",
            "Failed example:\n",
            "    print(np.round(costs[1500][1], 3))\n",
            "Expected:\n",
            "    0.425\n",
            "Got:\n",
            "    0.426\n",
            "**********************************************************************\n",
            "File \"__main__\", line 7, in __main__\n",
            "Failed example:\n",
            "    print(np.round(costs[3500][1], 3))\n",
            "Expected:\n",
            "    0.215\n",
            "Got:\n",
            "    0.217\n",
            "**********************************************************************\n",
            "File \"__main__\", line 9, in __main__\n",
            "Failed example:\n",
            "    print(np.round(costs[15000][1], 3))\n",
            "Expected:\n",
            "    0.386\n",
            "Got:\n",
            "    0.397\n",
            "**********************************************************************\n",
            "File \"__main__\", line 11, in __main__\n",
            "Failed example:\n",
            "    print(np.round(costs[32000][1], 3))\n",
            "Expected:\n",
            "    0.2\n",
            "Got:\n",
            "    0.198\n",
            "**********************************************************************\n",
            "File \"__main__\", line 13, in __main__\n",
            "Failed example:\n",
            "    print(np.round(costs[75000][1], 3))\n",
            "Expected:\n",
            "    0.259\n",
            "Got:\n",
            "    0.315\n",
            "**********************************************************************\n",
            "File \"__main__\", line 15, in __main__\n",
            "Failed example:\n",
            "    print(np.round(costs[150000][1], 3))\n",
            "Expected:\n",
            "    0.032\n",
            "Got:\n",
            "    0.152\n",
            "**********************************************************************\n",
            "File \"__main__\", line 17, in __main__\n",
            "Failed example:\n",
            "    print(np.round(costs[299999][1], 3))\n",
            "Expected:\n",
            "    0.0\n",
            "Got:\n",
            "    0.001\n",
            "**********************************************************************\n",
            "1 items had failures:\n",
            "   8 of   8 in __main__\n",
            "***Test Failed*** 8 failures.\n"
          ]
        },
        {
          "output_type": "execute_result",
          "data": {
            "text/plain": [
              "TestResults(failed=8, attempted=8)"
            ]
          },
          "metadata": {},
          "execution_count": 60
        },
        {
          "output_type": "display_data",
          "data": {
            "text/plain": [
              "<Figure size 640x480 with 1 Axes>"
            ],
            "image/png": "[encoded data removed]"
          },
          "metadata": {}
        }
      ]
    },
    {
      "cell_type": "code",
      "metadata": {
        "id": "JZ6wGh-2O3qa",
        "colab": {
          "base_uri": "https://localhost:8080/"
        },
        "outputId": "c4d9a507-44a9-4b87-821d-3ffdf64b905a"
      },
      "source": [
        "# Get predictions on the train set.\n",
        "predictions_train = momentum_model.predict(X_train)\n",
        "\n",
        "# Get predictions on the test set.\n",
        "predictions_test = momentum_model.predict(X_test)\n",
        "\n",
        "\n",
        "\n",
        "import doctest\n",
        "\n",
        "\"\"\"\n",
        "  >>> print(predictions_train[0][17])\n",
        "  1\n",
        "  >>> print(predictions_train[0][50])\n",
        "  1\n",
        "  >>> print(predictions_test[0][1])\n",
        "  0\n",
        "  >>> print(predictions_test[0][6])\n",
        "  0\n",
        "\"\"\"\n",
        "\n",
        "doctest.testmod()"
      ],
      "execution_count": 61,
      "outputs": [
        {
          "output_type": "stream",
          "name": "stdout",
          "text": [
            "**********************************************************************\n",
            "File \"__main__\", line 7, in __main__\n",
            "Failed example:\n",
            "    print(predictions_test[0][1])\n",
            "Expected:\n",
            "    0\n",
            "Got:\n",
            "    1\n",
            "**********************************************************************\n",
            "1 items had failures:\n",
            "   1 of   4 in __main__\n",
            "***Test Failed*** 1 failures.\n"
          ]
        },
        {
          "output_type": "execute_result",
          "data": {
            "text/plain": [
              "TestResults(failed=1, attempted=4)"
            ]
          },
          "metadata": {},
          "execution_count": 61
        }
      ]
    },
    {
      "cell_type": "code",
      "metadata": {
        "id": "fErjvCMlO9K1",
        "colab": {
          "base_uri": "https://localhost:8080/"
        },
        "outputId": "e0abecf5-e068-4855-bd45-4e1e2584cd37"
      },
      "source": [
        "# Evaluate train accuracy.\n",
        "momentum_model.evaluate(predictions_train, Y_train)\n",
        "\n",
        "\n",
        "\n",
        "import doctest\n",
        "\n",
        "\"\"\"\n",
        "  >>> print(np.round(momentum_model.evaluate(predictions_train, Y_train), 3))\n",
        "  100.0\n",
        "\"\"\"\n",
        "\n",
        "doctest.testmod()"
      ],
      "execution_count": 62,
      "outputs": [
        {
          "output_type": "execute_result",
          "data": {
            "text/plain": [
              "TestResults(failed=0, attempted=1)"
            ]
          },
          "metadata": {},
          "execution_count": 62
        }
      ]
    },
    {
      "cell_type": "code",
      "metadata": {
        "id": "TJoU8jlXO9N9",
        "colab": {
          "base_uri": "https://localhost:8080/"
        },
        "outputId": "3578ee66-a3de-4de4-df46-e2757b239e30"
      },
      "source": [
        "# Evaluate test accuracy.\n",
        "momentum_model.evaluate(predictions_test, Y_test)\n",
        "\n",
        "\n",
        "\n",
        "import doctest\n",
        "\n",
        "\"\"\"\n",
        "  >>> print(np.round(momentum_model.evaluate(predictions_test, Y_test), 3))\n",
        "  90.0\n",
        "\"\"\"\n",
        "\n",
        "doctest.testmod()"
      ],
      "execution_count": 63,
      "outputs": [
        {
          "output_type": "stream",
          "name": "stdout",
          "text": [
            "**********************************************************************\n",
            "File \"__main__\", line 3, in __main__\n",
            "Failed example:\n",
            "    print(np.round(momentum_model.evaluate(predictions_test, Y_test), 3))\n",
            "Expected:\n",
            "    90.0\n",
            "Got:\n",
            "    70.0\n",
            "**********************************************************************\n",
            "1 items had failures:\n",
            "   1 of   1 in __main__\n",
            "***Test Failed*** 1 failures.\n"
          ]
        },
        {
          "output_type": "execute_result",
          "data": {
            "text/plain": [
              "TestResults(failed=1, attempted=1)"
            ]
          },
          "metadata": {},
          "execution_count": 63
        }
      ]
    },
    {
      "cell_type": "markdown",
      "metadata": {
        "id": "eSrOrfuxIlsp"
      },
      "source": [
        "### RMSprop\n",
        "\n",
        "As discussed in the lecture videos, we’re going to consider the y direction to be our unwanted direction and the x direction to be our desired direction in which we must move to reach the minimum point.\n",
        "We’ve represented the cost function in 2 dimensions here; and for our deep neural network model, the x and y axes could be rewritten as the weights ‘W’  and biases ‘B’ axes respectively, since the cost ‘J’ is a function of ‘W’ and ‘B’.\n",
        "However, recall when working with a deep model we typically have many features or independent variables which are represented as nodes in the input layer,  and as a result our cost function is very high dimensional.\n",
        "We want to move from our starting point in the descent to the destination point, which should simply be a horizontal line in our conceptual model.   \n",
        "Therefore, we only want to change the desired parameters affecting that dimension and not any others. This in practice means we want to minimize any movement in the vertical axis, which we can set to be all other parameters.  Please refer to the lecture video for more details on this conceptual description.\n",
        "\n",
        "Now we’re ready to understand RMSprop. RMSprop is similar to momentum but has a couple of key differences.\n",
        "Let’s take a look at the RMSprop algorithm. On iteration t, we compute dW and db for the current mini-batch, in the same way as regular batch descent and momentum. However, instead of taking a regular EMA, we’re going to instead alter the calculation slightly. Instead of V_dW and V_db, we’re going to use S_dW and S_db. We’re also going to call our weighting hyperparameter beta2 to differentiate it from the beta1 we used in momentum (this will be helpful later on).\n",
        "The difference is that we are going to compute the EMA of the squares of dW and db respectively.\n",
        "- $S_{dW}=\\beta_2\\cdot S_{dW}+(1-\\beta_2)\\cdot dW^2$\n",
        "- $S_{db}=\\beta_2\\cdot S_{db}+(1-\\beta_2)\\cdot db^2$\n",
        "\n",
        "Next, comes the key step. We’re going to update W using:   \n",
        "- $W=W-\\alpha\\cdot \\frac{dW}{\\sqrt{S_{dW}}}$\n",
        "\n",
        "and b using:   \n",
        "- $b=b-\\alpha\\cdot \\frac{db}{\\sqrt{S_{db}}}$\n",
        "\n",
        "We want learning to happen quickly in the desired direction, which means making large updates to a specific set of parameters. We also want learning to happen slowly in the undesired direction, which means making small updates to another set of parameters.\n",
        "Now, how does RMSprop help us do this? Let’s look at S_dW and S_db:  \n",
        "- $S_{dW}=\\beta_2\\cdot S_{dW}+(1-\\beta_2)\\cdot dW^2$\n",
        "- $S_{db}=\\beta_2\\cdot S_{db}+(1-\\beta_2)\\cdot db^2$\n",
        "\n",
        "For dW, since we are using weight matrices, dW is a matrix, and therefore S_dW is the EMA of the element-wise square of dW. That means that the row ‘I’, column ‘j’ element of the matrix S_dW will be the EMA of the squared row ‘I’, column ‘j’ element of dW.\n",
        "So when we divide dW by sqrt(S_dW), if S_dW is large, then dW is divided by a large number so becomes relatively small, meaning there is a small update.\n",
        "In contrast, if S_dW is small, dW is divided by a relatively small number and so we get a relatively large update. The overall effect of these changes to the backpropagation and update steps is to dampen the oscillations and thus provide more stable convergence to the minimum of the cost function. This should greatly speed up the learning process.  \n",
        "We can make the same argument for S_db.  \n",
        "\n",
        "RMSprop uses what is known as an “adaptive learning rate”. This means that the learning rate is set to some initial value, but then changes over time as the EMA of the gradients changes. Essentially, this means the learning rate changes over time, which helps learning.  \n",
        "<br>\n",
        "\n",
        "**Step 14:**   \n",
        "Let’s now implement Rmsprop in code.  Uncomment the appropriate sections in the Framework Dense class and add the code for Rmsprop.\n",
        "\n",
        "**init():**  \n",
        "- Begin again by navigating to the __init__() function of the Dense class. Initialize S_dW with np.zeros() to be the same shape as the weights matrix and initialize S_db with np.zeros() to be the same shape as the biases matrix.  \n",
        "- Set beta2 to 0.999. You’ll also want to set epsilon to be 1e-8.  \n",
        "\n",
        "**backward():**  \n",
        "- Now move on to the backward() function.   \n",
        "As you did with momentum, use an if statement to check that the optimizer is the string ‘rmsprop’.\n",
        "Then, calculate S_dW and S_db as was previously discussed.   \n",
        "- Next, calculate the bias corrected values of S_dW and S_db in the same way as you did for momentum.  However, don’t forget to make sure you’re using beta2 and not beta1!   \n",
        "\n",
        "**update():**  \n",
        "- Now move on to the update() function. Use an if statement to check that the optimizer is ‘rmsprop’.  Then implement the update step for RMSprop. Here,  we’re going to use epsilon to provide numerical stability.\n",
        "Instead of just dividing dW by the square root of S_dW, we’re going to instead divide dW by the square root of S_dW + epsilon. The same goes for the update for the biases.   \n",
        "  - $W=W-\\alpha\\cdot \\frac{dW}{\\sqrt{S_{dW}} + \\epsilon}$\n",
        "  - $b=b-\\alpha\\cdot \\frac{db}{\\sqrt{S_{db}} + \\epsilon}$\n",
        "\n",
        "- This helps prevent division by zero.  Note this wasn’t needed in the momentum case because we didn’t divide our dW or db terms by anything.   \n",
        "- Also note, we can use the numpy square root function on the S_dW and S_db terms.\n",
        "Now, when you finish entering the code, as with the momentum case, don’t forget to rerun the Dense class cell and Model class cell."
      ]
    },
    {
      "cell_type": "markdown",
      "metadata": {
        "id": "28NaqRggkhwS"
      },
      "source": [
        "**Step 15-20:**  \n",
        "\n",
        "Now we’re ready to test RMSprop.   \n",
        "As was done before, instantiate your model and build the network with the same architecture as before.  That is construct the model with 2 inputs nodes, which is equal to the shape of the planar dataset, Dense layers of 25, 50, 50, and 25 nodes each, and an output layer of 1 node.  Set each layer’s activation function to ‘relu’ except for the output layer, which should be set to ‘sigmoid’.\n",
        "\n",
        "RMSprop allows for quicker convergence and theoretically for a higher learning rate. In our implementation, we’re going to actually use a lower learning rate so we can compare more easily to our other algorithms.\n",
        "Therefore, use 10,000 epochs and a learning rate of 0.0001.\n",
        "Use a minibatch size of 16 and set the optimizer to ‘rmsprop’.\n",
        "Then, as usual, run the training, plot the costs, make predictions, and evaluate train and test accuracy.  \n",
        "\n"
      ]
    },
    {
      "cell_type": "code",
      "metadata": {
        "id": "dUtbzIzRJJZP"
      },
      "source": [
        "# Instantiate your model.\n",
        "rmsprop_model = Model()\n",
        "\n",
        "# Build a deep neural network.\n",
        "rmsprop_model.build([\n",
        "                 Dense(output_units=25, input_units=2, activation='relu'),\n",
        "                 Dense(output_units=50, input_units=25, activation='relu'),\n",
        "                 Dense(output_units=50, input_units=50, activation='relu'),\n",
        "                 Dense(output_units=25, input_units=50, activation='relu'),\n",
        "                 Dense(output_units=1, input_units=25, activation='sigmoid'),\n",
        "])\n"
      ],
      "execution_count": 67,
      "outputs": []
    },
    {
      "cell_type": "code",
      "metadata": {
        "id": "PKV994OgJKN0"
      },
      "source": [
        "# Use the RMSprop algorithm by setting the optimizer to 'rmsprop'. Set the batch size to 16.\n",
        "# Fit your model to the training data with 10000 epochs and a smaller learning_rate of 0.0001.\n",
        "costs = rmsprop_model.fit(X_train, Y_train, epochs=10000, learning_rate=0.0001, batch_size=16, optimizer='RMSprop')\n"
      ],
      "execution_count": 68,
      "outputs": []
    },
    {
      "cell_type": "code",
      "metadata": {
        "id": "Mk2pi3JeJKP7",
        "colab": {
          "base_uri": "https://localhost:8080/",
          "height": 509
        },
        "outputId": "ef259394-c272-40d0-c6a3-25e2066e6ff0"
      },
      "source": [
        "# Plot the costs.\n",
        "plot(costs)\n",
        "\n",
        "\n",
        "import doctest\n",
        "\n",
        "\"\"\"\n",
        "  >>> print(np.round(costs[0][1], 3))\n",
        "  0.811\n",
        "  >>> print(np.round(costs[1500][1], 3))\n",
        "  0.416\n",
        "  >>> print(np.round(costs[3500][1], 3))\n",
        "  0.189\n",
        "  >>> print(np.round(costs[15000][1], 3))\n",
        "  0.272\n",
        "  >>> print(np.round(costs[32000][1], 3))\n",
        "  0.016\n",
        "\"\"\""
      ],
      "execution_count": 69,
      "outputs": [
        {
          "output_type": "execute_result",
          "data": {
            "text/plain": [
              "'\\n  >>> print(np.round(costs[0][1], 3))\\n  0.811\\n  >>> print(np.round(costs[1500][1], 3))\\n  0.416\\n  >>> print(np.round(costs[3500][1], 3))\\n  0.189\\n  >>> print(np.round(costs[15000][1], 3))\\n  0.272\\n  >>> print(np.round(costs[32000][1], 3))\\n  0.016\\n'"
            ],
            "application/vnd.google.colaboratory.intrinsic+json": {
              "type": "string"
            }
          },
          "metadata": {},
          "execution_count": 69
        },
        {
          "output_type": "display_data",
          "data": {
            "text/plain": [
              "<Figure size 640x480 with 1 Axes>"
            ],
            "image/png": "[encoded data removed]"
          },
          "metadata": {}
        }
      ]
    },
    {
      "cell_type": "code",
      "metadata": {
        "id": "qXVF4__NJKS_",
        "colab": {
          "base_uri": "https://localhost:8080/"
        },
        "outputId": "b4c406f0-2750-4d4b-f753-82c5aa3547d6"
      },
      "source": [
        "# Get predictions on the train set.\n",
        "predictions_train = rmsprop_model.predict(X_train)\n",
        "\n",
        "# Get predictions on the test set.\n",
        "predictions_test = rmsprop_model.predict(X_test)\n",
        "\n",
        "\n",
        "import doctest\n",
        "\n",
        "\"\"\"\n",
        "  >>> print(predictions_train[0][17])\n",
        "  1\n",
        "  >>> print(predictions_train[0][50])\n",
        "  1\n",
        "  >>> print(predictions_test[0][1])\n",
        "  1\n",
        "  >>> print(predictions_test[0][6])\n",
        "  0\n",
        "\"\"\"\n",
        "\n",
        "doctest.testmod()"
      ],
      "execution_count": 70,
      "outputs": [
        {
          "output_type": "execute_result",
          "data": {
            "text/plain": [
              "TestResults(failed=0, attempted=4)"
            ]
          },
          "metadata": {},
          "execution_count": 70
        }
      ]
    },
    {
      "cell_type": "code",
      "metadata": {
        "id": "8kaeiUJ2JKWQ",
        "colab": {
          "base_uri": "https://localhost:8080/"
        },
        "outputId": "30ca004f-17b5-4485-acf1-aae6472bd6fb"
      },
      "source": [
        "# Evaluate train accuracy.\n",
        "rmsprop_model.evaluate(predictions_train, Y_train)\n",
        "\n",
        "\n",
        "import doctest\n",
        "\n",
        "\"\"\"\n",
        "  >>> print(np.round(rmsprop_model.evaluate(predictions_train, Y_train), 3))\n",
        "  100.0\n",
        "\"\"\"\n",
        "\n",
        "doctest.testmod()"
      ],
      "execution_count": 71,
      "outputs": [
        {
          "output_type": "execute_result",
          "data": {
            "text/plain": [
              "TestResults(failed=0, attempted=1)"
            ]
          },
          "metadata": {},
          "execution_count": 71
        }
      ]
    },
    {
      "cell_type": "code",
      "metadata": {
        "id": "OeEks_KeJW1I",
        "colab": {
          "base_uri": "https://localhost:8080/"
        },
        "outputId": "8c3a8e21-ee9f-49fb-ae44-b838d04331d0"
      },
      "source": [
        "# Evaluate test accuracy.\n",
        "rmsprop_model.evaluate(predictions_test, Y_test)\n",
        "\n",
        "\n",
        "import doctest\n",
        "\n",
        "\"\"\"\n",
        "  >>> print(np.round(rmsprop_model.evaluate(predictions_test, Y_test), 3))\n",
        "  70.0\n",
        "\"\"\"\n",
        "\n",
        "doctest.testmod()"
      ],
      "execution_count": 72,
      "outputs": [
        {
          "output_type": "stream",
          "name": "stdout",
          "text": [
            "**********************************************************************\n",
            "File \"__main__\", line 3, in __main__\n",
            "Failed example:\n",
            "    print(np.round(rmsprop_model.evaluate(predictions_test, Y_test), 3))\n",
            "Expected:\n",
            "    70.0\n",
            "Got:\n",
            "    80.0\n",
            "**********************************************************************\n",
            "1 items had failures:\n",
            "   1 of   1 in __main__\n",
            "***Test Failed*** 1 failures.\n"
          ]
        },
        {
          "output_type": "execute_result",
          "data": {
            "text/plain": [
              "TestResults(failed=1, attempted=1)"
            ]
          },
          "metadata": {},
          "execution_count": 72
        }
      ]
    },
    {
      "cell_type": "markdown",
      "source": [
        "**Reflection (RMSprop vs Momentum)**\n",
        "RMSprop converged faster (38s) and provided better test results than the momentum implementation, with the former having a test score of 80 and the latter 70."
      ],
      "metadata": {
        "id": "DdLjr5-nEwms"
      }
    },
    {
      "cell_type": "markdown",
      "metadata": {
        "id": "Tv7tHzdVLST9"
      },
      "source": [
        "### Adam  \n",
        "\n",
        "Finally, let’s turn to the Adam algorithm. The name “Adam” is short for “Adaptive Moment Estimation”.  This algorithm combines momentum and RMSprop to try and get the benefits of both.    \n",
        "As with the other algorithms, on iteration ’t’, we compute dW and db for the current minibatch. Then, we’re going to compute V_dW and V_db (the EMA of the gradients) as we did for momentum, as well as S_dW and S_db (the EMAs of the squared gradient) as we did for RMSprop.\n",
        "We’re then going to implement bias correction for V_dW, V_db, S_dW, and S_db.   \n",
        "- $V_{dW}=\\beta_1\\cdot V_{dW}+(1-\\beta_1)\\cdot dW$\n",
        "- $V_{db}=\\beta_1\\cdot V_{dW}+(1-\\beta_1)\\cdot db$\n",
        "- $S_{dW}=\\beta_2\\cdot S_{dW}+(1-\\beta_2)\\cdot dW^2$\n",
        "- $S_{db}=\\beta_2\\cdot S_{dW}+(1-\\beta_2)\\cdot db^2$\n",
        "\n",
        "We previously gave beta1 and beta2 different names, and we did this because it helps us with implementing Adam.\n",
        "Remember, we used beta1 in calculations for the momentum term, and beta2 in calculations for the Rmsprop term.\n",
        "The key part of the Adam algorithm comes in the update step as shown in the equations below.  \n",
        "- $V_{dWcorr}=\\frac{V_{dW}}{\\sqrt{1-\\beta_1^{\\text{ } iteration}}}$\n",
        "- $V_{dbcorr}=\\frac{V_{db}}{\\sqrt{1-\\beta_1^{\\text{ } iteration}}}$\n",
        "- $S_{dWcorr}=\\frac{S_{dW}}{\\sqrt{1-\\beta_2^{\\text{ } iteration}}}$\n",
        "- $S_{dbcorr}=\\frac{S_{db}}{\\sqrt{1-\\beta_2^{\\text{ } iteration}}}$\n",
        "\n",
        "We’re going to update the parameters with the bias corrected EMA of the gradient divided by the square root of the bias corrected EMA of the squared gradients.\n",
        "That means, for example, that we update the weights as follows:\n",
        "- $W=W-\\alpha\\cdot \\frac{V_{dWcorr}}{\\sqrt{S_{dWcorr}} + \\epsilon}$  \n",
        "\n",
        "and then do the same for the biases using V_db_corr and S_db_corr:  \n",
        "\n",
        "- $b=b-\\alpha\\cdot \\frac{V_{dbcorr}}{\\sqrt{S_{dbcorr}} + \\epsilon}$\n",
        "\n",
        "<br>\n",
        "\n",
        "**Step 21:**   \n",
        "\n",
        "Let’s now implement Adam in code.  Uncomment the appropriate sections in the Framework Dense class and add the code for Adam.\n",
        "The Adam algorithm builds on the idea of an adaptive learning rate and combines the benefits of momentum and RMSprop. As such, it often converges faster than even RMSprop.  \n",
        "\n",
        "As usual, begin by navigating back to the Dense class. You have already initialized all the hyperparameters you will need, so we can move on immediately to the backward() function.  \n",
        "\n",
        "**backward():**\n",
        "- After completing the if statement to check for the Adam optimizer, fill in the code to calculate V_dW, V_db, S_dW, and S_db exactly as you have done before:  \n",
        "  - $V_{dW}=\\beta_1\\cdot V_{dW}+(1-\\beta_1)\\cdot dW$\n",
        "  - $V_{db}=\\beta_1\\cdot V_{dW}+(1-\\beta_1)\\cdot db$\n",
        "  - $S_{dW}=\\beta_2\\cdot S_{dW}+(1-\\beta_2)\\cdot dW^2$\n",
        "  - $S_{db}=\\beta_2\\cdot S_{dW}+(1-\\beta_2)\\cdot db^2$  \n",
        "\n",
        "- Then compute bias corrected values for each (see the bias equations provided above).\n",
        "\n",
        "\n",
        "**update():**\n",
        "- Update the weights using the bias corrected values of V_dW, V_db, S_dW, and S_db."
      ]
    },
    {
      "cell_type": "markdown",
      "metadata": {
        "id": "o94s4GP410La"
      },
      "source": [
        "**Step 22-27:**  \n",
        "Now we’re ready to test Adam.   \n",
        "\n",
        "As was done with the previous two algorithms, instantiate your model and build the network with the same architecture as before. That is construct the model with 2 inputs nodes, which is equal to the shape of the planar dataset, Dense layers of 25, 50, 50, and 25 nodes each, and an output layer of 1 node. Set each layer’s activation function to ‘relu’ except for the output layer, which should be set to ‘sigmoid’.  \n",
        "\n",
        "Fit the model to the data using 22,000 epochs and a learning rate of 0.0001 for ease of comparison with RMSprop. Use a minibatch size of 16 and set the optimizer to ‘adam’. Run the training, plot the costs, make predictions, and evaluate train and test accuracy.  \n",
        "\n",
        "Take a look at the plotted costs. You should find the graph is broadly comparable to that of RMSprop. Since we’re working with a small, low dimensional dataset, we wouldn’t’ expect a great difference between the RMSprop and Adam algorithms in terms of performance. When you calculate the predictions you can see that Adam also converges by the 10,000th epoch, and when you evaluate the performance you’ll see this gives 100% train accuracy and 90% test accuracy.\n",
        "\n"
      ]
    },
    {
      "cell_type": "code",
      "metadata": {
        "id": "IGTRNpbQJYop"
      },
      "source": [
        "# Instantiate your model.\n",
        "adam_model = Model()\n",
        "\n",
        "# Build a deep neural network.\n",
        "adam_model.build([\n",
        "                Dense(output_units=25, input_units=2, activation='relu'),\n",
        "                Dense(output_units=50, input_units=25, activation='relu'),\n",
        "                Dense(output_units=50, input_units=50, activation='relu'),\n",
        "                Dense(output_units=25, input_units=50, activation='relu'),\n",
        "                Dense(output_units=1, input_units=25, activation='sigmoid'),\n",
        "])\n"
      ],
      "execution_count": 92,
      "outputs": []
    },
    {
      "cell_type": "code",
      "metadata": {
        "id": "PP3g1apGJaoV",
        "colab": {
          "base_uri": "https://localhost:8080/"
        },
        "outputId": "ebffd753-96cf-43fb-abe3-e3821384a27b"
      },
      "source": [
        "# Use the Adam algorithm by setting the optimizer to 'adam'. Set the batch size to 16.\n",
        "# Fit your model to the training data with 10000 epochs and a smaller learning_rate of 0.0001.\n",
        "costs = adam_model.fit(X_train, Y_train, epochs=10000, learning_rate=0.0001, batch_size=16, optimizer='Adam')\n"
      ],
      "execution_count": 94,
      "outputs": [
        {
          "output_type": "stream",
          "name": "stderr",
          "text": [
            "<ipython-input-88-5e032da0e09b>:38: RuntimeWarning: overflow encountered in exp\n",
            "  sigmoid= 1/(1 + np.exp(-Z))\n"
          ]
        }
      ]
    },
    {
      "cell_type": "code",
      "metadata": {
        "id": "rimhYMgPJcoI",
        "colab": {
          "base_uri": "https://localhost:8080/",
          "height": 1000
        },
        "outputId": "dd7bb80c-49f8-423b-a194-bc7e02676bc3"
      },
      "source": [
        "# Plot the costs.\n",
        "plot(costs)\n",
        "\n",
        "\n",
        "\n",
        "import doctest\n",
        "\n",
        "\"\"\"\n",
        "  >>> print(np.round(costs[0][1], 3))\n",
        "  0.811\n",
        "  >>> print(np.round(costs[1500][1], 3))\n",
        "  0.412\n",
        "  >>> print(np.round(costs[3500][1], 3))\n",
        "  0.187\n",
        "  >>> print(np.round(costs[15000][1], 3))\n",
        "  0.268\n",
        "  >>> print(np.round(costs[32000][1], 3))\n",
        "  0.013\n",
        "\"\"\"\n",
        "doctest.testmod()\n"
      ],
      "execution_count": 95,
      "outputs": [
        {
          "output_type": "stream",
          "name": "stdout",
          "text": [
            "**********************************************************************\n",
            "File \"__main__\", line 3, in __main__\n",
            "Failed example:\n",
            "    print(np.round(costs[0][1], 3))\n",
            "Expected:\n",
            "    0.811\n",
            "Got:\n",
            "    0.253\n",
            "**********************************************************************\n",
            "File \"__main__\", line 5, in __main__\n",
            "Failed example:\n",
            "    print(np.round(costs[1500][1], 3))\n",
            "Expected:\n",
            "    0.412\n",
            "Got:\n",
            "    0.243\n",
            "**********************************************************************\n",
            "File \"__main__\", line 7, in __main__\n",
            "Failed example:\n",
            "    print(np.round(costs[3500][1], 3))\n",
            "Expected:\n",
            "    0.187\n",
            "Got:\n",
            "    0.132\n",
            "**********************************************************************\n",
            "File \"__main__\", line 9, in __main__\n",
            "Failed example:\n",
            "    print(np.round(costs[15000][1], 3))\n",
            "Expected:\n",
            "    0.268\n",
            "Got:\n",
            "    0.062\n",
            "**********************************************************************\n",
            "File \"__main__\", line 11, in __main__\n",
            "Failed example:\n",
            "    print(np.round(costs[32000][1], 3))\n",
            "Expected:\n",
            "    0.013\n",
            "Got:\n",
            "    0.0\n",
            "**********************************************************************\n",
            "1 items had failures:\n",
            "   5 of   5 in __main__\n",
            "***Test Failed*** 5 failures.\n"
          ]
        },
        {
          "output_type": "execute_result",
          "data": {
            "text/plain": [
              "TestResults(failed=5, attempted=5)"
            ]
          },
          "metadata": {},
          "execution_count": 95
        },
        {
          "output_type": "display_data",
          "data": {
            "text/plain": [
              "<Figure size 640x480 with 1 Axes>"
            ],
            "image/png": "[encoded data removed]"
          },
          "metadata": {}
        }
      ]
    },
    {
      "cell_type": "code",
      "metadata": {
        "id": "eGZxFJeaJcqV",
        "colab": {
          "base_uri": "https://localhost:8080/"
        },
        "outputId": "09f64ddf-47c1-4bb0-bd7a-0a75a150bb4d"
      },
      "source": [
        "# Get predictions on the train set.\n",
        "predictions_train = adam_model.predict(X_train)\n",
        "\n",
        "# Get predictions on the test set.\n",
        "predictions_test = adam_model.predict(X_test)\n",
        "\n",
        "\n",
        "\n",
        "import doctest\n",
        "\n",
        "\"\"\"\n",
        "  >>> print(predictions_train[0][17])\n",
        "  1\n",
        "  >>> print(predictions_train[0][50])\n",
        "  1\n",
        "  >>> print(predictions_test[0][1])\n",
        "  0\n",
        "  >>> print(predictions_test[0][6])\n",
        "  0\n",
        "\"\"\"\n",
        "\n",
        "doctest.testmod()"
      ],
      "execution_count": 96,
      "outputs": [
        {
          "output_type": "stream",
          "name": "stdout",
          "text": [
            "**********************************************************************\n",
            "File \"__main__\", line 7, in __main__\n",
            "Failed example:\n",
            "    print(predictions_test[0][1])\n",
            "Expected:\n",
            "    0\n",
            "Got:\n",
            "    1\n",
            "**********************************************************************\n",
            "File \"__main__\", line 9, in __main__\n",
            "Failed example:\n",
            "    print(predictions_test[0][6])\n",
            "Expected:\n",
            "    0\n",
            "Got:\n",
            "    1\n",
            "**********************************************************************\n",
            "1 items had failures:\n",
            "   2 of   4 in __main__\n",
            "***Test Failed*** 2 failures.\n"
          ]
        },
        {
          "output_type": "execute_result",
          "data": {
            "text/plain": [
              "TestResults(failed=2, attempted=4)"
            ]
          },
          "metadata": {},
          "execution_count": 96
        }
      ]
    },
    {
      "cell_type": "code",
      "metadata": {
        "id": "F9-eQ4sZJctO",
        "colab": {
          "base_uri": "https://localhost:8080/"
        },
        "outputId": "6c2f8ff1-f0b8-49cf-c584-86b532b30d88"
      },
      "source": [
        "# Evaluate train accuracy.\n",
        "adam_model.evaluate(predictions_train, Y_train)\n",
        "\n",
        "\n",
        "\n",
        "import doctest\n",
        "\n",
        "\"\"\"\n",
        "  >>> print(np.round(adam_model.evaluate(predictions_train, Y_train), 3))\n",
        "  100.0\n",
        "\"\"\"\n",
        "\n",
        "doctest.testmod()"
      ],
      "execution_count": 97,
      "outputs": [
        {
          "output_type": "execute_result",
          "data": {
            "text/plain": [
              "TestResults(failed=0, attempted=1)"
            ]
          },
          "metadata": {},
          "execution_count": 97
        }
      ]
    },
    {
      "cell_type": "code",
      "metadata": {
        "id": "jH0t-xBlNhsU",
        "colab": {
          "base_uri": "https://localhost:8080/"
        },
        "outputId": "41444295-6970-45df-f8af-5e5cc63fbf69"
      },
      "source": [
        "# Evaluate test accuracy.\n",
        "adam_model.evaluate(predictions_test, Y_test)\n",
        "\n",
        "\n",
        "\n",
        "import doctest\n",
        "\n",
        "\"\"\"\n",
        "  >>> print(np.round(adam_model.evaluate(predictions_test, Y_test), 3))\n",
        "  80.0\n",
        "\"\"\"\n",
        "\n",
        "doctest.testmod()"
      ],
      "execution_count": 98,
      "outputs": [
        {
          "output_type": "stream",
          "name": "stdout",
          "text": [
            "**********************************************************************\n",
            "File \"__main__\", line 3, in __main__\n",
            "Failed example:\n",
            "    print(np.round(adam_model.evaluate(predictions_test, Y_test), 3))\n",
            "Expected:\n",
            "    80.0\n",
            "Got:\n",
            "    90.0\n",
            "**********************************************************************\n",
            "1 items had failures:\n",
            "   1 of   1 in __main__\n",
            "***Test Failed*** 1 failures.\n"
          ]
        },
        {
          "output_type": "execute_result",
          "data": {
            "text/plain": [
              "TestResults(failed=1, attempted=1)"
            ]
          },
          "metadata": {},
          "execution_count": 98
        }
      ]
    },
    {
      "cell_type": "markdown",
      "source": [
        "WHEN YOU COMPLETE THIS SECTION - STOP, AND UPLOAD YOUR COLAB SCRIPT FOR THIS ASSIGNMENT."
      ],
      "metadata": {
        "id": "TL1yECyMMn1Y"
      }
    },
    {
      "cell_type": "markdown",
      "source": [
        "**Reflection (Adam vs RMSprop)**\n",
        "Other than stellar test results from the Adam algorithm, there were no major differences in performance between Adam and RMSprop. The former had the highest testing accuracy at 90%."
      ],
      "metadata": {
        "id": "GImv6f9dFKzL"
      }
    }
  ]
}